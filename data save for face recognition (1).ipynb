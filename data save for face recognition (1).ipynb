{
 "cells": [
  {
   "cell_type": "code",
   "execution_count": 1,
   "metadata": {},
   "outputs": [
    {
     "name": "stdout",
     "output_type": "stream",
     "text": [
      "enter the namenitika\n",
      "1\n",
      "2\n",
      "3\n",
      "4\n",
      "5\n",
      "6\n",
      "7\n",
      "8\n",
      "9\n",
      "10\n",
      "11\n",
      "12\n",
      "13\n",
      "14\n"
     ]
    }
   ],
   "source": [
    "import cv2\n",
    "import numpy as np\n",
    "cap=cv2.VideoCapture(0)\n",
    "face_cascade = cv2.CascadeClassifier(\"haarcascade_frontalface_alt.xml\")\n",
    "skip=0\n",
    "dataset_path=\"F:/New folder/ \"\n",
    "face_data=[]\n",
    "file_name=input(\"enter the name\")\n",
    "while True:\n",
    "    ret,frame=cap.read()\n",
    "    faces= face_cascade.detectMultiScale(frame,1.3,5)\n",
    "    faces=sorted(faces,key=lambda f:f[2]*f[3],reverse=True)\n",
    "    \n",
    "     \n",
    "    \n",
    "    if ret==False :\n",
    "        continue\n",
    "     \n",
    "    for face in faces[-1:]:\n",
    "        x,y,w,h = face\n",
    "        cv2.rectangle(frame,(x,y),(x+w,y+h),(0,255,175),2)\n",
    "        offset=15\n",
    "        face_section=frame[y-offset:y+h+offset,x-offset:x+w+offset]\n",
    "        face_section=cv2.resize(face_section,(100,100))\n",
    "        skip=skip+1\n",
    "        if skip%10==0:\n",
    "            face_data.append(face_section)\n",
    "            print(len(face_data))\n",
    "        \n",
    "        \n",
    "        cv2.imshow(\"frame\",frame) \n",
    "        cv2.imshow(\"part\",face_section)\n",
    "        \n",
    "        \n",
    "        \n",
    "        \n",
    "      \n",
    "    \n",
    "    key_pressed= cv2.waitKey(1)&0xff\n",
    "    if(key_pressed==ord('q')):\n",
    "        break\n",
    "        \n",
    "        \n",
    "face_data=np.asarray(face_data)\n",
    "face_data =face_data.reshape((face_data.shape[0],-1))\n",
    "np.save(dataset_path+file_name+'.npy',face_data)\n",
    "cap.release()\n",
    "cv2.destroyAllWindows()"
   ]
  },
  {
   "cell_type": "code",
   "execution_count": null,
   "metadata": {},
   "outputs": [],
   "source": [
    "\n"
   ]
  },
  {
   "cell_type": "code",
   "execution_count": null,
   "metadata": {},
   "outputs": [],
   "source": []
  },
  {
   "cell_type": "code",
   "execution_count": null,
   "metadata": {},
   "outputs": [],
   "source": []
  }
 ],
 "metadata": {
  "kernelspec": {
   "display_name": "Python 3",
   "language": "python",
   "name": "python3"
  },
  "language_info": {
   "codemirror_mode": {
    "name": "ipython",
    "version": 3
   },
   "file_extension": ".py",
   "mimetype": "text/x-python",
   "name": "python",
   "nbconvert_exporter": "python",
   "pygments_lexer": "ipython3",
   "version": "3.7.3"
  }
 },
 "nbformat": 4,
 "nbformat_minor": 2
}
